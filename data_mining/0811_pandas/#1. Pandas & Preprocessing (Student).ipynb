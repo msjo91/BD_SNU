{
 "cells": [
  {
   "cell_type": "markdown",
   "metadata": {},
   "source": [
    "# Pandas & Preprocessing\n",
    "FIRA 빅데이터 플랫폼 과정 <데이터마이닝> - 2017.08.11.금 09:00-13:00"
   ]
  },
  {
   "cell_type": "markdown",
   "metadata": {},
   "source": [
    "### 1. Pandas Tutorial\n",
    "- 1-1. Data Structure\n",
    "- 1-2. Selection : Getting, Slicing\n",
    "- 1.3. Add New Rows & Columns\n",
    "- 1-4. Inspection\n",
    "- 1-5. Arithmetic\n",
    "- 1-6. Map & Apply Function\n",
    "- 1-7. Sort\n",
    "    \n",
    "### 2. Preprocessing\n",
    "- 2-1. Data from .csv, .sql to DataFrame\n",
    "- 2-2. Merge/Join two DataFrame : .merge()\n",
    "- 2-3. Fill or Abandon NaN values\n",
    "- 2-4. Save & Load as DataFrame : pickle\n",
    "- 2-5. Data Summary : .groupby()\n",
    "\n",
    "### 실습 : 군집화 실습 데이터 기본 전처리\n",
    "    \n",
    "### 3. Basic Visualization : Scatter Plot of Normalized Total Volume vs. Normalized Value\n",
    "- 3-1. `matplotlib.pyplot`\n",
    "- 3-2. `bokeh.js`"
   ]
  },
  {
   "cell_type": "markdown",
   "metadata": {},
   "source": [
    "### 1. Pandas Tutorial\n",
    "---\n",
    "Pandas는 NumPy를 기반으로 하는 데이터 분석에 최적화된 파이썬 라이브러리입니다. Series, DataFrame의 데이터 구조를 제공하고 이를 계산하는 도구를 제공하여 데이터 분석을 보다 편리하게 해줍니다."
   ]
  },
  {
   "cell_type": "code",
   "execution_count": null,
   "metadata": {
    "collapsed": true
   },
   "outputs": [],
   "source": [
    "# import package - version check 필수"
   ]
  },
  {
   "cell_type": "markdown",
   "metadata": {},
   "source": [
    "#### 1.1. Data Structure\n",
    "---\n",
    "##### pd.Series \n",
    "1. Labeling이 가능한 1차원 Array Object \n",
    "2. 모두 같은 데이터형을 가집니다."
   ]
  },
  {
   "cell_type": "code",
   "execution_count": null,
   "metadata": {
    "collapsed": false
   },
   "outputs": [],
   "source": [
    "# index가 ['a', 'b', 'c', 'd']이고, 값이 [3, -5, 7, 4]인 Series"
   ]
  },
  {
   "cell_type": "markdown",
   "metadata": {},
   "source": [
    "##### pd.DataFrame \n",
    "1. Labeling이 가능한 2차원 Array Object\n",
    "2. column 별로 서로 다른 데이터형을 가질 수 있습니다."
   ]
  },
  {
   "cell_type": "code",
   "execution_count": null,
   "metadata": {
    "collapsed": true
   },
   "outputs": [],
   "source": [
    "data = {'Country': ['Belgium', 'India', 'Brazil'],\n",
    "        'Capital': ['Brussels', 'New Delhi', 'Brasília'],\n",
    "        'Population': [11190846, 1303171035, 207847528]}"
   ]
  },
  {
   "cell_type": "code",
   "execution_count": null,
   "metadata": {
    "collapsed": true
   },
   "outputs": [],
   "source": [
    "# 위의 데이터를 DataFrame으로 변환"
   ]
  },
  {
   "cell_type": "markdown",
   "metadata": {},
   "source": [
    "#### 1.2. Selection : Getting, Slicing\n",
    "---\n",
    "\n",
    "##### Getting"
   ]
  },
  {
   "cell_type": "code",
   "execution_count": null,
   "metadata": {
    "collapsed": false
   },
   "outputs": [],
   "source": [
    "# Series : By index"
   ]
  },
  {
   "cell_type": "code",
   "execution_count": null,
   "metadata": {
    "collapsed": false
   },
   "outputs": [],
   "source": [
    "# DataFrame : By Row "
   ]
  },
  {
   "cell_type": "code",
   "execution_count": null,
   "metadata": {
    "collapsed": false
   },
   "outputs": [],
   "source": [
    "# DataFrame : By column"
   ]
  },
  {
   "cell_type": "markdown",
   "metadata": {},
   "source": [
    "##### Slicing\n",
    "* df.iloc : index를 통한 slicing\n",
    "* df.loc : index, label을 통한 slicing"
   ]
  },
  {
   "cell_type": "code",
   "execution_count": null,
   "metadata": {
    "collapsed": false
   },
   "outputs": [],
   "source": [
    "# By Position"
   ]
  },
  {
   "cell_type": "code",
   "execution_count": null,
   "metadata": {
    "collapsed": false
   },
   "outputs": [],
   "source": [
    "# By Label"
   ]
  },
  {
   "cell_type": "markdown",
   "metadata": {},
   "source": [
    "##### Boolean Indexing (Mask)\n",
    "해당 조건을 만족하는 부분만 slicing - True/False 기반"
   ]
  },
  {
   "cell_type": "code",
   "execution_count": null,
   "metadata": {
    "collapsed": false
   },
   "outputs": [],
   "source": [
    "# s에서 1보다 큰 부분만 출력"
   ]
  },
  {
   "cell_type": "code",
   "execution_count": null,
   "metadata": {
    "collapsed": false
   },
   "outputs": [],
   "source": [
    "# Boolean Mask?"
   ]
  },
  {
   "cell_type": "code",
   "execution_count": null,
   "metadata": {
    "collapsed": false
   },
   "outputs": [],
   "source": [
    "# 부정 조건"
   ]
  },
  {
   "cell_type": "code",
   "execution_count": null,
   "metadata": {
    "collapsed": false
   },
   "outputs": [],
   "source": [
    "# OR"
   ]
  },
  {
   "cell_type": "code",
   "execution_count": null,
   "metadata": {
    "collapsed": false
   },
   "outputs": [],
   "source": [
    "# Popluation이 1200000000 이상인 경우만 Slicing"
   ]
  },
  {
   "cell_type": "markdown",
   "metadata": {},
   "source": [
    "#### 1.3. Adding a New Row & Column\n",
    "---\n",
    "##### Row"
   ]
  },
  {
   "cell_type": "code",
   "execution_count": null,
   "metadata": {
    "collapsed": true
   },
   "outputs": [],
   "source": [
    "# Adding new or update row : 'Country 4' - ['Korea', 'Seoul', 50000000, 'Asia']"
   ]
  },
  {
   "cell_type": "markdown",
   "metadata": {},
   "source": [
    "*Q. .iloc으로 새로운 행을 추가할 수 있는가? 그 이유는?*"
   ]
  },
  {
   "cell_type": "code",
   "execution_count": null,
   "metadata": {
    "collapsed": true
   },
   "outputs": [],
   "source": [
    "# Can't use iloc"
   ]
  },
  {
   "cell_type": "markdown",
   "metadata": {},
   "source": [
    "##### Column"
   ]
  },
  {
   "cell_type": "code",
   "execution_count": null,
   "metadata": {
    "collapsed": true
   },
   "outputs": [],
   "source": [
    "# adding new or update columns : 'Continent' - ['Europe', 'Asia', 'America']"
   ]
  },
  {
   "cell_type": "markdown",
   "metadata": {},
   "source": [
    "#### 1.4. Inspection\n",
    "---"
   ]
  },
  {
   "cell_type": "code",
   "execution_count": null,
   "metadata": {
    "collapsed": false
   },
   "outputs": [],
   "source": [
    "# DataFrame 크기 정보"
   ]
  },
  {
   "cell_type": "code",
   "execution_count": null,
   "metadata": {
    "collapsed": false
   },
   "outputs": [],
   "source": [
    "# 행 정보"
   ]
  },
  {
   "cell_type": "code",
   "execution_count": null,
   "metadata": {
    "collapsed": false
   },
   "outputs": [],
   "source": [
    "# 열 정보"
   ]
  },
  {
   "cell_type": "code",
   "execution_count": null,
   "metadata": {
    "collapsed": false
   },
   "outputs": [],
   "source": [
    "# 상세 정보 : 행 정보, 열 정보 및 데이터형, 메모리"
   ]
  },
  {
   "cell_type": "markdown",
   "metadata": {},
   "source": [
    "#### 1.5 Arithmetic\n",
    "---\n",
    "##### 모든 타입 공통"
   ]
  },
  {
   "cell_type": "code",
   "execution_count": null,
   "metadata": {
    "collapsed": false
   },
   "outputs": [],
   "source": [
    "# 열/행별 데이터 개수"
   ]
  },
  {
   "cell_type": "code",
   "execution_count": null,
   "metadata": {
    "collapsed": false
   },
   "outputs": [],
   "source": [
    "# 열/행별 합"
   ]
  },
  {
   "cell_type": "code",
   "execution_count": null,
   "metadata": {
    "collapsed": false
   },
   "outputs": [],
   "source": [
    "# 열/행별 누적합"
   ]
  },
  {
   "cell_type": "code",
   "execution_count": null,
   "metadata": {
    "collapsed": false
   },
   "outputs": [],
   "source": [
    "# 열별 최소"
   ]
  },
  {
   "cell_type": "code",
   "execution_count": null,
   "metadata": {
    "collapsed": false
   },
   "outputs": [],
   "source": [
    "# 행별 최소"
   ]
  },
  {
   "cell_type": "code",
   "execution_count": null,
   "metadata": {
    "collapsed": false
   },
   "outputs": [],
   "source": [
    "# 열별 최대"
   ]
  },
  {
   "cell_type": "markdown",
   "metadata": {},
   "source": [
    "##### 수치형 데이터"
   ]
  },
  {
   "cell_type": "code",
   "execution_count": null,
   "metadata": {
    "collapsed": false
   },
   "outputs": [],
   "source": [
    "# Population 최소 / 최대"
   ]
  },
  {
   "cell_type": "code",
   "execution_count": null,
   "metadata": {
    "collapsed": false
   },
   "outputs": [],
   "source": [
    "# Population이 최소인 index"
   ]
  },
  {
   "cell_type": "code",
   "execution_count": null,
   "metadata": {
    "collapsed": false
   },
   "outputs": [],
   "source": [
    "# 또다른 표현 방법"
   ]
  },
  {
   "cell_type": "code",
   "execution_count": null,
   "metadata": {
    "collapsed": false
   },
   "outputs": [],
   "source": [
    "# Population이 최대인 index"
   ]
  },
  {
   "cell_type": "code",
   "execution_count": null,
   "metadata": {
    "collapsed": false
   },
   "outputs": [],
   "source": [
    "# 열별 기본 수치 정보"
   ]
  },
  {
   "cell_type": "code",
   "execution_count": null,
   "metadata": {
    "collapsed": false
   },
   "outputs": [],
   "source": [
    "# 엷별 평균"
   ]
  },
  {
   "cell_type": "markdown",
   "metadata": {},
   "source": [
    "#### 1.6 Map & Apply Function\n",
    "---\n",
    "##### Series : .map"
   ]
  },
  {
   "cell_type": "code",
   "execution_count": null,
   "metadata": {
    "collapsed": true
   },
   "outputs": [],
   "source": [
    "s.map(print)"
   ]
  },
  {
   "cell_type": "code",
   "execution_count": null,
   "metadata": {
    "collapsed": true
   },
   "outputs": [],
   "source": [
    "# square function 정의 후, series에 적용해보자"
   ]
  },
  {
   "cell_type": "markdown",
   "metadata": {},
   "source": [
    "##### DataFrama : .apply, .applymap"
   ]
  },
  {
   "cell_type": "code",
   "execution_count": null,
   "metadata": {
    "collapsed": true
   },
   "outputs": [],
   "source": [
    "num_data = {\n",
    "   'a' : [1, 2, 3],\n",
    "   'b' : [4, 5, 6],\n",
    "   'c' : [7, 8, 9]\n",
    "}"
   ]
  },
  {
   "cell_type": "code",
   "execution_count": null,
   "metadata": {
    "collapsed": true
   },
   "outputs": [],
   "source": [
    "num_df = pd.DataFrame(num_data)"
   ]
  },
  {
   "cell_type": "code",
   "execution_count": null,
   "metadata": {
    "collapsed": true
   },
   "outputs": [],
   "source": [
    "# 셀 단위로 적용"
   ]
  },
  {
   "cell_type": "code",
   "execution_count": null,
   "metadata": {
    "collapsed": true
   },
   "outputs": [],
   "source": [
    "# 열/행 단위로 적용"
   ]
  },
  {
   "cell_type": "markdown",
   "metadata": {},
   "source": [
    "#### 1-7. Sort\n",
    "---\n",
    "특정 컬럼을 기준으로 정렬 가능"
   ]
  },
  {
   "cell_type": "code",
   "execution_count": null,
   "metadata": {
    "collapsed": false
   },
   "outputs": [],
   "source": [
    "# Popluation을 기준으로 내림차순 정렬"
   ]
  },
  {
   "cell_type": "markdown",
   "metadata": {},
   "source": [
    "### 2. Preprocessing\n",
    "---\n",
    "- 2-1. Data from .csv, .sql to DataFrame \n",
    "- 2-2. Merge/Join two DataFrame : .merge()\n",
    "- 2-3. Fill or Abandon NaN values\n",
    "- 2-4. Save & Load as DataFrame : pickle\n",
    "- 2-5. Data Summary : .groupby()"
   ]
  },
  {
   "cell_type": "markdown",
   "metadata": {},
   "source": [
    "##### 사용 데이터 : 2016 US Election (Kaggle) - 2016년 미 대선 정당별 대선 후보 경선 결과\n",
    "- primary_results : 24611 x 8 (공화당, 민주당 대통령 후보 경선 결과)\n",
    "- county_facts : 3195 x 54 (state, couty별 인구, 주거, 기업, 유통 등 특성 정보)\n",
    "- county_facts_dictionary : county_facts의 column에 대한 설명 (50개)"
   ]
  },
  {
   "cell_type": "markdown",
   "metadata": {},
   "source": [
    "#### 2-1. Data from .csv, .sql to DataFrame\n",
    "---\n",
    "##### pd.read_sql & sqlite3"
   ]
  },
  {
   "cell_type": "code",
   "execution_count": null,
   "metadata": {
    "collapsed": false
   },
   "outputs": [],
   "source": [
    "# import package"
   ]
  },
  {
   "cell_type": "code",
   "execution_count": null,
   "metadata": {
    "collapsed": true
   },
   "outputs": [],
   "source": [
    "# connect sqlite3 - database.sqlite"
   ]
  },
  {
   "cell_type": "code",
   "execution_count": null,
   "metadata": {
    "collapsed": true
   },
   "outputs": [],
   "source": [
    "# pd.read_sql(query, con)"
   ]
  },
  {
   "cell_type": "markdown",
   "metadata": {},
   "source": [
    "##### pd.read_csv"
   ]
  },
  {
   "cell_type": "code",
   "execution_count": null,
   "metadata": {
    "collapsed": true
   },
   "outputs": [],
   "source": [
    "# county_facts_df"
   ]
  },
  {
   "cell_type": "markdown",
   "metadata": {},
   "source": [
    "*Q. `county_facts.csv`를 부른 DataFrame을 State와 County로 분리하여 각각 state_df, county_df로 나누어라*\n",
    "<br>\n",
    "- Hint : fips는 지역번호를 나타내며, 0은 미국 전체, 천의 자리 이상은 주를 나타낸다"
   ]
  },
  {
   "cell_type": "code",
   "execution_count": null,
   "metadata": {
    "collapsed": false
   },
   "outputs": [],
   "source": [
    "# state_df\n",
    "# county_df"
   ]
  },
  {
   "cell_type": "code",
   "execution_count": null,
   "metadata": {
    "collapsed": false
   },
   "outputs": [],
   "source": [
    "# primary_df"
   ]
  },
  {
   "cell_type": "markdown",
   "metadata": {},
   "source": [
    "#### 2-2. Merge/Join two DataFrames : .merge()\n",
    "---\n",
    "* 어떤 df를 기준으로 통합할 것인가?\n",
    "* 통합할 때 key가 되는 열은 무엇인가?\n",
    "* 어떻게 통합할 것인가?"
   ]
  },
  {
   "cell_type": "code",
   "execution_count": null,
   "metadata": {
    "collapsed": false
   },
   "outputs": [],
   "source": []
  },
  {
   "cell_type": "markdown",
   "metadata": {},
   "source": [
    "*Q. inner? outer?*"
   ]
  },
  {
   "cell_type": "markdown",
   "metadata": {},
   "source": [
    "#### 2-3. Fill or Abandon NaN\n",
    "---"
   ]
  },
  {
   "cell_type": "code",
   "execution_count": null,
   "metadata": {
    "collapsed": false
   },
   "outputs": [],
   "source": [
    "# check NaN in data"
   ]
  },
  {
   "cell_type": "markdown",
   "metadata": {},
   "source": [
    "*Q. 2-2의 DataFrame을 공화당과 민주당의 결과로 분리하여 각각 rep_df, dem_df로 나누어라* "
   ]
  },
  {
   "cell_type": "code",
   "execution_count": null,
   "metadata": {
    "collapsed": true
   },
   "outputs": [],
   "source": [
    "# rep_df\n",
    "# dem_df"
   ]
  },
  {
   "cell_type": "markdown",
   "metadata": {},
   "source": [
    "#### 2-4. Save & Load DataFrame : pickle\n",
    "---"
   ]
  },
  {
   "cell_type": "code",
   "execution_count": null,
   "metadata": {
    "collapsed": false
   },
   "outputs": [],
   "source": [
    "# import package"
   ]
  },
  {
   "cell_type": "code",
   "execution_count": null,
   "metadata": {
    "collapsed": true
   },
   "outputs": [],
   "source": [
    "# save as DataFrame"
   ]
  },
  {
   "cell_type": "code",
   "execution_count": null,
   "metadata": {
    "collapsed": true
   },
   "outputs": [],
   "source": [
    "# load as DataFrame"
   ]
  },
  {
   "cell_type": "markdown",
   "metadata": {},
   "source": [
    "#### 2-5. Data Summary  : .groupby()\n",
    "---"
   ]
  },
  {
   "cell_type": "code",
   "execution_count": null,
   "metadata": {
    "collapsed": true
   },
   "outputs": [],
   "source": [
    "# 공화당 후보들이 각각 받은 votes를 계산"
   ]
  },
  {
   "cell_type": "markdown",
   "metadata": {},
   "source": [
    "#### 실습 : 군집화 실습 데이터 전처리하기\n",
    "---\n",
    "군집화 실습을 위해 사용할 데이터를 미리 전처리해보자\n",
    "\n",
    "##### 분석에 도움되는 프로그래밍 팁\n",
    "- immutable : 되도록 한번 할당된 변수를 다른 값으로 덮어쓰는 것은 피할 것"
   ]
  },
  {
   "cell_type": "markdown",
   "metadata": {},
   "source": [
    "##### 사용 데이터 : 비누 구매 고객 데이터 (교재 21.6) - `BathSoap.xlsx`\n",
    "- sheet3 : DM_Sheet, 멤버 정보 및 비누 구입 정보\n",
    "- sheet4 : Durables, 멤버들의 비누 이외 타물품 소유 정보"
   ]
  },
  {
   "cell_type": "code",
   "execution_count": null,
   "metadata": {
    "collapsed": true
   },
   "outputs": [],
   "source": [
    "# Brand 정보\n",
    "brand_code_description = pd.read_csv('BathSoapBrandCode.csv')\n",
    "brand_code_description"
   ]
  },
  {
   "cell_type": "code",
   "execution_count": null,
   "metadata": {
    "collapsed": true
   },
   "outputs": [],
   "source": [
    "# columns, Durables 정보\n",
    "all_columns_description = pd.read_csv('BathSoapCodelList.csv')\n",
    "all_columns_description"
   ]
  },
  {
   "cell_type": "markdown",
   "metadata": {},
   "source": [
    "##### pd.read_excel\n",
    "`BathSoap.xlsx` 파일에서 데이터가 있는 sheet를 DataFrame으로 변환\n",
    "* pd.read_excel document 참고\n",
    "* sheet 위치, header로 쓸 row를 잘 지정할 것\n",
    "* row의 시작은 0"
   ]
  },
  {
   "cell_type": "code",
   "execution_count": null,
   "metadata": {
    "collapsed": true
   },
   "outputs": [],
   "source": [
    "# df\n",
    "# durable_df"
   ]
  },
  {
   "cell_type": "markdown",
   "metadata": {},
   "source": [
    "##### pd.merge\n",
    "Durable과 Dm_Sheet의 DataFrame을 통합\n",
    "* 합치는 키가 되는 column을 잘 살필 것\n",
    "* 합치는 방법을 잘 결정할 것"
   ]
  },
  {
   "cell_type": "code",
   "execution_count": null,
   "metadata": {
    "collapsed": true
   },
   "outputs": [],
   "source": [
    "# merged_df"
   ]
  },
  {
   "cell_type": "markdown",
   "metadata": {},
   "source": [
    "##### 결측치 처리  - pd.fillna OR delete rows\n",
    "* NaN이 있는 행부터 찾을 것\n",
    "* 해당 행의 성질에 따라 행의 값을 채우거나 지울 것\n",
    "* 위의 과정을 시행할 때 `nan_filled_df` 등으로 원래의 df를 copy()해서 진행할 것 - immutable"
   ]
  },
  {
   "cell_type": "code",
   "execution_count": null,
   "metadata": {
    "collapsed": true
   },
   "outputs": [],
   "source": [
    "# check NaN by row\n",
    "\n",
    "# Nan이 아닌 부분만 DataFrame으로 다시 생성\n",
    "    # nafilled_df"
   ]
  },
  {
   "cell_type": "markdown",
   "metadata": {},
   "source": [
    "##### Scaling \n",
    "* 수치형 데이터인 열은 대부분 normalizaion 해주는 것이 좋다\n",
    "* Scaling이 필요하다고 생각하는 수치형 데이터인 열을 찾아서 열별로 Standard Scaling 해준다\n",
    "    * Statndard : x-열의 평균/열의 표준편차\n",
    "* 위의 과정을 시행할 때 scaled_df 등으로 원래의 df를 copy()해서 진행할 것 - immutable"
   ]
  },
  {
   "cell_type": "code",
   "execution_count": null,
   "metadata": {
    "collapsed": false
   },
   "outputs": [],
   "source": [
    "# Choose columns\n",
    "\n",
    "# 위의 컬럼들을 Scaling\n",
    "\n",
    "# scaled_df로 저장"
   ]
  },
  {
   "cell_type": "markdown",
   "metadata": {},
   "source": [
    "##### Save DataFrame"
   ]
  },
  {
   "cell_type": "code",
   "execution_count": null,
   "metadata": {
    "collapsed": true
   },
   "outputs": [],
   "source": []
  },
  {
   "cell_type": "markdown",
   "metadata": {},
   "source": [
    "### 3. Basic Visualization : Scatter Plot of Normalized Total Volume vs. Normalized Value\n",
    "---\n",
    "#### 3-1. `matplotlib.pyplot`"
   ]
  },
  {
   "cell_type": "code",
   "execution_count": null,
   "metadata": {
    "collapsed": true
   },
   "outputs": [],
   "source": [
    "import matplotlib.pyplot as plt"
   ]
  },
  {
   "cell_type": "code",
   "execution_count": null,
   "metadata": {
    "collapsed": false
   },
   "outputs": [],
   "source": [
    "xaxis_label = 'Noramlized Total Volume'\n",
    "yaxis_label = 'Noramlized Value'\n",
    "x_range = [-2, 5]\n",
    "y_range = [-2, 5]\n",
    "\n",
    "# plt.scatter\n",
    "# xlabel\n",
    "# ylabel\n",
    "# xlims\n",
    "# ylims\n",
    "# show"
   ]
  },
  {
   "cell_type": "markdown",
   "metadata": {},
   "source": [
    "#### 3-2. `bokeh.js`"
   ]
  },
  {
   "cell_type": "code",
   "execution_count": null,
   "metadata": {
    "collapsed": true
   },
   "outputs": [],
   "source": [
    "from bokeh.plotting import figure, output_notebook, show\n",
    "from bokeh.models import HoverTool, ColumnDataSource"
   ]
  },
  {
   "cell_type": "code",
   "execution_count": null,
   "metadata": {
    "collapsed": false
   },
   "outputs": [],
   "source": [
    "xaxis_label = 'Noramlized Total Volume'\n",
    "yaxis_label = 'Noramlized Value'\n",
    "x_range = [-2, 5]\n",
    "y_range = [-2, 5]\n",
    "\n",
    "title = 'Total Volume vs. Value '\n",
    "TOOLS=\"hover,crosshair,pan,wheel_zoom,box_zoom,reset,tap,previewsave,box_select\"\n",
    "\n",
    "\n",
    "# output_notebook()\n",
    "\n",
    "# data source as ColumnDataSource\n",
    "\n",
    "# figure\n",
    "\n",
    "# plot kind\n",
    "\n",
    "# xaxis label\n",
    "# yaxis label\n",
    "\n",
    "# hover Setting\n",
    "\n",
    "# show"
   ]
  }
 ],
 "metadata": {
  "anaconda-cloud": {},
  "kernelspec": {
   "display_name": "Python [conda root]",
   "language": "python",
   "name": "conda-root-py"
  },
  "language_info": {
   "codemirror_mode": {
    "name": "ipython",
    "version": 3
   },
   "file_extension": ".py",
   "mimetype": "text/x-python",
   "name": "python",
   "nbconvert_exporter": "python",
   "pygments_lexer": "ipython3",
   "version": "3.5.3"
  }
 },
 "nbformat": 4,
 "nbformat_minor": 2
}
