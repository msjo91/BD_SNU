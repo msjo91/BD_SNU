{
 "cells": [
  {
   "cell_type": "markdown",
   "metadata": {},
   "source": [
    "# Maryland Car Accident Analysis"
   ]
  },
  {
   "cell_type": "markdown",
   "metadata": {},
   "source": [
    "### Note\n",
    "Data file 'maryland_accident_dataset_by_report_no.csv' has already been trimmed.\n",
    "1. A record of a single individual is registered for each report case.\n",
    "2. Records including NaN are deleted.\n",
    "3. All individual registered are drivers. (PERSON_TYPE == 'D')"
   ]
  },
  {
   "cell_type": "markdown",
   "metadata": {},
   "source": [
    "## Purpose\n",
    "Differentiate car accident cases.  \n",
    "Understand causes of casuality.  \n",
    "Design solutions."
   ]
  },
  {
   "cell_type": "markdown",
   "metadata": {},
   "source": [
    "## Process\n",
    "Preprocessing  \n",
    "Clustering  \n",
    "Classifying    \n",
    "Analyzing"
   ]
  },
  {
   "cell_type": "code",
   "execution_count": 1,
   "metadata": {},
   "outputs": [],
   "source": [
    "# Import modules\n",
    "from scipy.cluster.hierarchy import dendrogram, linkage\n",
    "from sklearn.cluster import KMeans\n",
    "from sklearn.model_selection import train_test_split\n",
    "from sklearn.tree import DecisionTreeClassifier, export_graphviz\n",
    "from matplotlib import pyplot as plt\n",
    "\n",
    "import collections\n",
    "import graphviz as gv\n",
    "import numpy as np\n",
    "import pandas as pd"
   ]
  },
  {
   "cell_type": "markdown",
   "metadata": {},
   "source": [
    "### Preprocessing"
   ]
  },
  {
   "cell_type": "code",
   "execution_count": 2,
   "metadata": {},
   "outputs": [
    {
     "data": {
      "text/plain": [
       "29593"
      ]
     },
     "execution_count": 2,
     "metadata": {},
     "output_type": "execute_result"
    }
   ],
   "source": [
    "# Read data as DataFrame\n",
    "df = pd.read_csv('maryland_accident_dataset_by_report_no.csv')\n",
    "# Check total records\n",
    "len(df.index)"
   ]
  },
  {
   "cell_type": "code",
   "execution_count": 3,
   "metadata": {},
   "outputs": [],
   "source": [
    "# To make all columns shown, find out the number of columns\n",
    "n = len(df.columns)\n",
    "# Change display setting\n",
    "pd.options.display.max_columns = n"
   ]
  },
  {
   "cell_type": "code",
   "execution_count": 4,
   "metadata": {},
   "outputs": [],
   "source": [
    "# Copy a new dataframe to modify\n",
    "cdf = df.copy()"
   ]
  },
  {
   "cell_type": "markdown",
   "metadata": {},
   "source": [
    "#### Drop attributes\n",
    "Remaining attributes should satisfy following conditions.\n",
    "1. It tells the driver's state.\n",
    "2. It tells the environmental condition.\n",
    "3. It tells the motion of the car at and right before the accident.\n",
    "4. It is not skewed."
   ]
  },
  {
   "cell_type": "code",
   "execution_count": 5,
   "metadata": {},
   "outputs": [
    {
     "data": {
      "text/plain": [
       "Index(['REPORT_NO', 'CDL_FLAG', 'CONDITION_CODE', 'EQUIP_PROB_CODE',\n",
       "       'FAULT_FLAG', 'INJ_SEVER_CODE', 'PERSON_ID', 'PERSON_TYPE',\n",
       "       'SAF_EQUIP_CODE', 'SEX_CODE', 'VEHICLE_ID', 'COLLISION_TYPE_CODE',\n",
       "       'C_M_ZONE_FLAG', 'JUNCTION_CODE', 'LANE_CODE', 'LIGHT_CODE',\n",
       "       'RD_COND_CODE', 'RD_DIV_CODE', 'SURF_COND_CODE', 'WEATHER_CODE',\n",
       "       'AREA_DAMAGED_CODE_MAIN', 'BODY_TYPE_CODE', 'DAMAGE_CODE',\n",
       "       'HIT_AND_RUN_FLAG', 'MOVEMENT_CODE', 'TIME', 'AGE'],\n",
       "      dtype='object')"
      ]
     },
     "execution_count": 5,
     "metadata": {},
     "output_type": "execute_result"
    }
   ],
   "source": [
    "# Get all column names as a list\n",
    "cdf.columns"
   ]
  },
  {
   "cell_type": "code",
   "execution_count": 6,
   "metadata": {},
   "outputs": [
    {
     "data": {
      "text/plain": [
       "Counter({'D': 29593})"
      ]
     },
     "execution_count": 6,
     "metadata": {},
     "output_type": "execute_result"
    }
   ],
   "source": [
    "# Check if PERSON_TYPE is filled with a single value\n",
    "collections.Counter(cdf.PERSON_TYPE)"
   ]
  },
  {
   "cell_type": "code",
   "execution_count": 7,
   "metadata": {},
   "outputs": [],
   "source": [
    "# Create new column AGE_GRP\n",
    "cdf['AGE_GRP'] = cdf['AGE'] // 10"
   ]
  },
  {
   "cell_type": "code",
   "execution_count": 8,
   "metadata": {},
   "outputs": [
    {
     "data": {
      "text/plain": [
       "Counter({'Fatal Injury': 26,\n",
       "         'Incapacitating/Disabled Injury': 239,\n",
       "         'No Injury': 24451,\n",
       "         'Non-incapacitating Injury': 1751,\n",
       "         'Possible Incapacitating Injury': 3126})"
      ]
     },
     "execution_count": 8,
     "metadata": {},
     "output_type": "execute_result"
    }
   ],
   "source": [
    "# Get all value names of INJ_SEVER_CODE\n",
    "collections.Counter(cdf.INJ_SEVER_CODE)"
   ]
  },
  {
   "cell_type": "code",
   "execution_count": 9,
   "metadata": {},
   "outputs": [],
   "source": [
    "# Change categorical values of INJ_SEVER_CODE\n",
    "d = {'INJ_SEVER_CODE': {\n",
    "    'Fatal Injury': 5,\n",
    "    'Incapacitating/Disabled Injury': 4,\n",
    "    'Possible Incapacitating Injury': 3,\n",
    "    'Non-incapacitating Injury': 2,    \n",
    "    'No Injury': 1\n",
    "}}\n",
    "cdf2 = cdf.replace(d)"
   ]
  },
  {
   "cell_type": "code",
   "execution_count": 10,
   "metadata": {},
   "outputs": [],
   "source": [
    "# First columns to drop\n",
    "del_cols = [\n",
    "    'REPORT_NO', 'FAULT_FLAG', 'INJ_SEVER_CODE', 'PERSON_ID',\n",
    "    'PERSON_TYPE', 'VEHICLE_ID', 'TIME', 'AGE'\n",
    "]\n",
    "# Drop columns\n",
    "ddf = cdf2.drop(del_cols, axis=1)"
   ]
  },
  {
   "cell_type": "markdown",
   "metadata": {},
   "source": [
    "#### Reasons for neglection\n",
    "REPORT_NO: Report number is not of concern.  \n",
    "FAULT_FLAG: There is only one person registered for each report. And where the responsibility lies seems to reflect neither the severity nor the type of a car accident.  \n",
    "INJ_SEVER_CODE: This attribute will be used for future analysis.  \n",
    "PERSON_ID: Individual ID is not of concern.  \n",
    "PERSON_TYPE: Every record already satisfies PERSON_TYPE == 'D'.  \n",
    "VEHICLE_ID: Vehicle ID is not of concern.  \n",
    "TIME: Since there is no attribute that can tell the traffic situation for each hour, day or month span, TIME attribute can only indicate environmental conditions which are indicated in other attributes. Hence, this attribute is unncessary.  \n",
    "AGE: There is a new column AGE_GRP to replace this column."
   ]
  },
  {
   "cell_type": "code",
   "execution_count": 11,
   "metadata": {
    "collapsed": true
   },
   "outputs": [
    {
     "name": "stdout",
     "output_type": "stream",
     "text": [
      "CDL_FLAG:\n",
      "\t[Max] N: 0.9596864123272395\n",
      "!!Data is greatly skewed.!!\n",
      "\n",
      "CONDITION_CODE:\n",
      "\t[Max] Apparently Normal: 0.9597539958774034\n",
      "!!Data is greatly skewed.!!\n",
      "\n",
      "EQUIP_PROB_CODE:\n",
      "\t[Max] No Misuse: 0.9966208224918055\n",
      "!!Data is greatly skewed.!!\n",
      "\n",
      "SAF_EQUIP_CODE:\n",
      "\t[Max] Shoulder/Lap Belt(s): 0.9799952691514885\n",
      "!!Data is greatly skewed.!!\n",
      "\n",
      "SEX_CODE:\n",
      "\t[Max] F: 0.5468185043760349\n",
      "\n",
      "COLLISION_TYPE_CODE:\n",
      "\t[Max] Same Direction Rear End: 0.34937316257222994\n",
      "\n",
      "C_M_ZONE_FLAG:\n",
      "\t[Max] N: 0.9844895752373872\n",
      "!!Data is greatly skewed.!!\n",
      "\n",
      "JUNCTION_CODE:\n",
      "\t[Max] Non Intersection: 0.5374243909032541\n",
      "\n",
      "LANE_CODE:\n",
      "\t[Max] Right Turn Lane: 0.6486669144730173\n",
      "\n",
      "LIGHT_CODE:\n",
      "\t[Max] Daylight: 0.6134896766127125\n",
      "\n",
      "RD_COND_CODE:\n",
      "\t[Max] No Defects: 0.9863143310918122\n",
      "!!Data is greatly skewed.!!\n",
      "\n",
      "RD_DIV_CODE:\n",
      "\t[Max] Two-way, Not Divided: 0.4170242962862839\n",
      "\n",
      "SURF_COND_CODE:\n",
      "\t[Max] Dry: 0.7480147332139357\n",
      "!!Data is greatly skewed.!!\n",
      "\n",
      "WEATHER_CODE:\n",
      "\t[Max] Clear: 0.7142567499070727\n",
      "!!Data is greatly skewed.!!\n",
      "\n",
      "AREA_DAMAGED_CODE_MAIN:\n",
      "\t[Max] Twelve o'clock: 0.388672996992532\n",
      "\n",
      "BODY_TYPE_CODE:\n",
      "\t[Max] Passenger Car: 0.6495792924002298\n",
      "\n",
      "DAMAGE_CODE:\n",
      "\t[Max] Disabling: 0.41945730409218396\n",
      "\n",
      "HIT_AND_RUN_FLAG:\n",
      "\t[Max] N: 0.9801980198019802\n",
      "!!Data is greatly skewed.!!\n",
      "\n",
      "MOVEMENT_CODE:\n",
      "\t[Max] Moving Constant Speed: 0.49200824519312\n",
      "\n",
      "AGE_GRP:\n",
      "\t[Max] 2.0: 0.27124657858277296\n",
      "\n"
     ]
    }
   ],
   "source": [
    "# List of columns to delete\n",
    "del_skew = []\n",
    "\n",
    "# Get column names as list\n",
    "col_list = ddf.columns\n",
    "\n",
    "# Identify columns with skewed data\n",
    "for col in col_list:\n",
    "    d = dict(collections.Counter(cdf['{}'.format(col)]))\n",
    "    # Key with max value\n",
    "    max_key = max(d, key=d.get)\n",
    "    # Max value\n",
    "    max_val = d[max_key]\n",
    "    # Percentage of max value\n",
    "    occ = max_val / len(ddf)\n",
    "    \n",
    "    print('{c}:\\n\\t[Max] {k}: {p}'.format(c=col, k=max_key, p=occ))\n",
    "    \n",
    "    # If the largest data of a column occupy more than 70%, assume the column skewed\n",
    "    if occ > 0.7:\n",
    "        # Add the column name in a list for to-be-deleted\n",
    "        del_skew.append(col)\n",
    "        print('!!Data is greatly skewed.!!')\n",
    "    \n",
    "    print('')"
   ]
  },
  {
   "cell_type": "code",
   "execution_count": 12,
   "metadata": {
    "collapsed": true
   },
   "outputs": [
    {
     "data": {
      "text/plain": [
       "['CDL_FLAG',\n",
       " 'CONDITION_CODE',\n",
       " 'EQUIP_PROB_CODE',\n",
       " 'SAF_EQUIP_CODE',\n",
       " 'C_M_ZONE_FLAG',\n",
       " 'RD_COND_CODE',\n",
       " 'SURF_COND_CODE',\n",
       " 'WEATHER_CODE',\n",
       " 'HIT_AND_RUN_FLAG']"
      ]
     },
     "execution_count": 12,
     "metadata": {},
     "output_type": "execute_result"
    }
   ],
   "source": [
    "# Get column names to be deleted\n",
    "del_skew"
   ]
  },
  {
   "cell_type": "code",
   "execution_count": 13,
   "metadata": {},
   "outputs": [],
   "source": [
    "# Drop columns of skewed data\n",
    "ddf2 = ddf.drop(del_skew, axis=1)"
   ]
  },
  {
   "cell_type": "markdown",
   "metadata": {},
   "source": [
    "#### Reasons for neglection\n",
    "Below attributes are dropped due to being highly skewed. Also they do not seemed to possess much contextual value for further process.  \n",
    "CDL_FLAG: 'N' 95%  \n",
    "CONDITION_CODE: 'Apparently Normal' 95%  \n",
    "EQUIP_PROB_CODE: 'No Misuse' 99%  \n",
    "SAF_EQUIP_CODE:'Shoulder/Lap Belts(s)' 97%  \n",
    "C_M_ZONE_FLAG: 'N' 98%  \n",
    "RD_COND_CODE: 'No Defects' 98%  \n",
    "SURF_COND_CODE: 'Dry' 74%  \n",
    "WEATHER_CODE: 'Clear' 71%  \n",
    "HIT_AND_RUN_FLAG: 'N' 98%"
   ]
  },
  {
   "cell_type": "code",
   "execution_count": 14,
   "metadata": {},
   "outputs": [],
   "source": [
    "# Change categorical values with only two options to numerical values\n",
    "d = {'SEX_CODE': {'F': 0, 'M': 1}}\n",
    "rdf = ddf2.replace(d)"
   ]
  },
  {
   "cell_type": "code",
   "execution_count": 15,
   "metadata": {},
   "outputs": [
    {
     "data": {
      "text/plain": [
       "Index(['SEX_CODE', 'COLLISION_TYPE_CODE', 'JUNCTION_CODE', 'LANE_CODE',\n",
       "       'LIGHT_CODE', 'RD_DIV_CODE', 'AREA_DAMAGED_CODE_MAIN', 'BODY_TYPE_CODE',\n",
       "       'DAMAGE_CODE', 'MOVEMENT_CODE', 'AGE_GRP'],\n",
       "      dtype='object')"
      ]
     },
     "execution_count": 15,
     "metadata": {},
     "output_type": "execute_result"
    }
   ],
   "source": [
    "# Get column names of current rdf\n",
    "rdf.columns"
   ]
  },
  {
   "cell_type": "code",
   "execution_count": 16,
   "metadata": {},
   "outputs": [],
   "source": [
    "# Dummify all categorical data\n",
    "dum_cols = [\n",
    "    'COLLISION_TYPE_CODE', 'JUNCTION_CODE', 'LANE_CODE',\n",
    "    'LIGHT_CODE', 'RD_DIV_CODE', 'AREA_DAMAGED_CODE_MAIN',\n",
    "    'BODY_TYPE_CODE', 'DAMAGE_CODE', 'MOVEMENT_CODE'\n",
    "]\n",
    "\n",
    "dum_df = pd.get_dummies(rdf, columns=dum_cols)"
   ]
  },
  {
   "cell_type": "code",
   "execution_count": 17,
   "metadata": {},
   "outputs": [],
   "source": [
    "# Scale AGE_GRP\n",
    "# Since AGE_GRP has greate value-span, it seems right to scale it\n",
    "scaled_df = dum_df.copy()\n",
    "# Using max-min scaling, reduce the value-span to [0, 1]\n",
    "scaled_df['AGE_GRP'] = (scaled_df['AGE_GRP'] - scaled_df['AGE_GRP'].min()) / (scaled_df['AGE_GRP'].max() - scaled_df['AGE_GRP'].min())"
   ]
  },
  {
   "cell_type": "code",
   "execution_count": 18,
   "metadata": {},
   "outputs": [],
   "source": [
    "# To make all columns shown, find out the number of columns\n",
    "n = len(scaled_df.columns)\n",
    "# Change display setting\n",
    "pd.options.display.max_columns = n"
   ]
  },
  {
   "cell_type": "markdown",
   "metadata": {},
   "source": [
    "### Clustering"
   ]
  },
  {
   "cell_type": "markdown",
   "metadata": {},
   "source": [
    "#### Dendrogram"
   ]
  },
  {
   "cell_type": "code",
   "execution_count": 19,
   "metadata": {},
   "outputs": [],
   "source": [
    "# Z = linkage(X, method)\n",
    "Z = linkage(scaled_df, 'ward')"
   ]
  },
  {
   "cell_type": "code",
   "execution_count": 20,
   "metadata": {},
   "outputs": [],
   "source": [
    "def plot_dendrogram(title, xlabel, ylabel, Z, max_d=None, p=None):\n",
    "    # Settings for figure\n",
    "    plt.figure(figsize=(25, 10))\n",
    "    plt.title('Hierarchical Clustering Dendrogram')\n",
    "    plt.xlabel('Index of Data')\n",
    "    plt.ylabel('Distance')\n",
    "\n",
    "    # Dendrogram\n",
    "    if p:\n",
    "        dendrogram(\n",
    "            Z,\n",
    "            leaf_rotation=90,  # Rotates the x axis labels\n",
    "            leaf_font_size=8,  # Font size for the x axis labels\n",
    "            truncate_mode = 'lastp',\n",
    "            p=p,\n",
    "            show_contracted = True\n",
    "        )\n",
    "    else:\n",
    "        dendrogram(\n",
    "            Z,\n",
    "            leaf_rotation=90,  # Rotates the x axis labels\n",
    "            leaf_font_size=8,  # Font size for the x axis labels\n",
    "        )\n",
    "    \n",
    "    if max_d:\n",
    "        plt.axhline(y=max_d, c='k')\n",
    "    plt.show()"
   ]
  },
  {
   "cell_type": "code",
   "execution_count": 21,
   "metadata": {},
   "outputs": [
    {
     "data": {
      "image/png": "[encoded data removed]",
      "text/plain": [
       "<matplotlib.figure.Figure at 0x104d95710>"
      ]
     },
     "metadata": {},
     "output_type": "display_data"
    }
   ],
   "source": [
    "# Plot dendrogram with branch number (p) set\n",
    "plot_dendrogram('Hierarhcical Clustering Dendrogram', 'Index of Data', 'Distance', \n",
    "                Z, p=5)"
   ]
  },
  {
   "cell_type": "code",
   "execution_count": 22,
   "metadata": {},
   "outputs": [
    {
     "data": {
      "image/png": "[encoded data removed]",
      "text/plain": [
       "<matplotlib.figure.Figure at 0x104dd3d30>"
      ]
     },
     "metadata": {},
     "output_type": "display_data"
    }
   ],
   "source": [
    "# Plot dendrogram when p = 6\n",
    "plot_dendrogram('Hierarhcical Clustering Dendrogram', 'Index of Data', 'Distance', \n",
    "                Z, p=6)"
   ]
  },
  {
   "cell_type": "markdown",
   "metadata": {},
   "source": [
    "#### k-means"
   ]
  },
  {
   "cell_type": "code",
   "execution_count": 33,
   "metadata": {},
   "outputs": [
    {
     "data": {
      "text/plain": [
       "KMeans(algorithm='auto', copy_x=True, init='k-means++', max_iter=300,\n",
       "    n_clusters=5, n_init=10, n_jobs=1, precompute_distances='auto',\n",
       "    random_state=None, tol=0.0001, verbose=0)"
      ]
     },
     "execution_count": 33,
     "metadata": {},
     "output_type": "execute_result"
    }
   ],
   "source": [
    "# Fit\n",
    "n_clusters = 5\n",
    "kmodel = KMeans(n_clusters=n_clusters)\n",
    "kmodel.fit(scaled_df)"
   ]
  },
  {
   "cell_type": "code",
   "execution_count": 34,
   "metadata": {},
   "outputs": [],
   "source": [
    "# Predicted labels\n",
    "predicted_labels = kmodel.labels_\n",
    "cdf2['kmeans_labels'] = predicted_labels"
   ]
  },
  {
   "cell_type": "code",
   "execution_count": 35,
   "metadata": {},
   "outputs": [
    {
     "data": {
      "text/plain": [
       "Counter({0: 6738, 1: 7243, 2: 5117, 3: 3896, 4: 6599})"
      ]
     },
     "execution_count": 35,
     "metadata": {},
     "output_type": "execute_result"
    }
   ],
   "source": [
    "# See if labels are well divided\n",
    "collections.Counter(cdf2.kmeans_labels)"
   ]
  },
  {
   "cell_type": "markdown",
   "metadata": {},
   "source": [
    "### Classifying"
   ]
  },
  {
   "cell_type": "markdown",
   "metadata": {},
   "source": [
    "#### Decision tree"
   ]
  },
  {
   "cell_type": "code",
   "execution_count": 36,
   "metadata": {},
   "outputs": [],
   "source": [
    "# Split X, y\n",
    "X, y = scaled_df, cdf2.kmeans_labels"
   ]
  },
  {
   "cell_type": "code",
   "execution_count": 37,
   "metadata": {},
   "outputs": [],
   "source": [
    "# Split train and test set\n",
    "X_train, X_test, y_train, y_test = train_test_split(X, y, test_size=0.25, stratify=y)"
   ]
  },
  {
   "cell_type": "code",
   "execution_count": 38,
   "metadata": {},
   "outputs": [
    {
     "data": {
      "text/plain": [
       "DecisionTreeClassifier(class_weight='balanced', criterion='gini',\n",
       "            max_depth=None, max_features=None, max_leaf_nodes=5,\n",
       "            min_impurity_decrease=0.0, min_impurity_split=None,\n",
       "            min_samples_leaf=1, min_samples_split=2,\n",
       "            min_weight_fraction_leaf=0.0, presort=False, random_state=None,\n",
       "            splitter='best')"
      ]
     },
     "execution_count": 38,
     "metadata": {},
     "output_type": "execute_result"
    }
   ],
   "source": [
    "# Model\n",
    "class_weight = 'balanced'\n",
    "max_leaf_nodes = 5\n",
    "dt_model = DecisionTreeClassifier(class_weight=class_weight, max_leaf_nodes=max_leaf_nodes)\n",
    "# max_depth = 5\n",
    "# dt_model = DecisionTreeClassifier(class_weight=class_weight, max_depth=max_depth)\n",
    "dt_model.fit(X=X_train, y=y_train)"
   ]
  },
  {
   "cell_type": "code",
   "execution_count": 39,
   "metadata": {},
   "outputs": [],
   "source": [
    "# Get predictions\n",
    "y_pred_dt = dt_model.predict(X=X_test)"
   ]
  },
  {
   "cell_type": "code",
   "execution_count": 40,
   "metadata": {},
   "outputs": [
    {
     "data": {
      "text/plain": [
       "0.9041762400324368"
      ]
     },
     "execution_count": 40,
     "metadata": {},
     "output_type": "execute_result"
    }
   ],
   "source": [
    "# Get score\n",
    "dt_model.score(X=X_test, y=y_test)"
   ]
  },
  {
   "cell_type": "markdown",
   "metadata": {},
   "source": [
    "#### Graphviz"
   ]
  },
  {
   "cell_type": "code",
   "execution_count": 41,
   "metadata": {},
   "outputs": [],
   "source": [
    "# Export tree as .dot\n",
    "with open('decision_tree.dot', 'w') as f:\n",
    "    export_graphviz(dt_model, f, feature_names=scaled_df.columns)"
   ]
  },
  {
   "cell_type": "code",
   "execution_count": 42,
   "metadata": {},
   "outputs": [
    {
     "data": {
      "image/svg+xml": [
       "<?xml version=\"1.0\" encoding=\"UTF-8\" standalone=\"no\"?>\n",
       "<!DOCTYPE svg PUBLIC \"-//W3C//DTD SVG 1.1//EN\"\n",
       " \"http://www.w3.org/Graphics/SVG/1.1/DTD/svg11.dtd\">\n",
       "<!-- Generated by graphviz version 2.40.1 (20161225.0304)\n",
       " -->\n",
       "<!-- Title: Tree Pages: 1 -->\n",
       "<svg width=\"1296pt\" height=\"358pt\"\n",
       " viewBox=\"0.00 0.00 1296.28 358.00\" xmlns=\"http://www.w3.org/2000/svg\" xmlns:xlink=\"http://www.w3.org/1999/xlink\">\n",
       "<g id=\"graph0\" class=\"graph\" transform=\"scale(1 1) rotate(0) translate(4 354)\">\n",
       "<title>Tree</title>\n",
       "<polygon fill=\"#ffffff\" stroke=\"transparent\" points=\"-4,4 -4,-354 1292.2808,-354 1292.2808,4 -4,4\"/>\n",
       "<!-- 0 -->\n",
       "<g id=\"node1\" class=\"node\">\n",
       "<title>0</title>\n",
       "<polygon fill=\"none\" stroke=\"#000000\" points=\"1000.1726,-350 668.3518,-350 668.3518,-286 1000.1726,-286 1000.1726,-350\"/>\n",
       "<text text-anchor=\"middle\" x=\"834.2622\" y=\"-334.8\" font-family=\"Times,serif\" font-size=\"14.00\" fill=\"#000000\">AREA_DAMAGED_CODE_MAIN_Six o&#39;clock &lt;= 0.5</text>\n",
       "<text text-anchor=\"middle\" x=\"834.2622\" y=\"-320.8\" font-family=\"Times,serif\" font-size=\"14.00\" fill=\"#000000\">gini = 0.8</text>\n",
       "<text text-anchor=\"middle\" x=\"834.2622\" y=\"-306.8\" font-family=\"Times,serif\" font-size=\"14.00\" fill=\"#000000\">samples = 22194</text>\n",
       "<text text-anchor=\"middle\" x=\"834.2622\" y=\"-292.8\" font-family=\"Times,serif\" font-size=\"14.00\" fill=\"#000000\">value = [4438.8, 4438.8, 4438.8, 4438.8, 4438.8]</text>\n",
       "</g>\n",
       "<!-- 1 -->\n",
       "<g id=\"node2\" class=\"node\">\n",
       "<title>1</title>\n",
       "<polygon fill=\"none\" stroke=\"#000000\" points=\"832.2993,-250 478.2251,-250 478.2251,-186 832.2993,-186 832.2993,-250\"/>\n",
       "<text text-anchor=\"middle\" x=\"655.2622\" y=\"-234.8\" font-family=\"Times,serif\" font-size=\"14.00\" fill=\"#000000\">JUNCTION_CODE_Non Intersection &lt;= 0.5</text>\n",
       "<text text-anchor=\"middle\" x=\"655.2622\" y=\"-220.8\" font-family=\"Times,serif\" font-size=\"14.00\" fill=\"#000000\">gini = 0.762</text>\n",
       "<text text-anchor=\"middle\" x=\"655.2622\" y=\"-206.8\" font-family=\"Times,serif\" font-size=\"14.00\" fill=\"#000000\">samples = 16875</text>\n",
       "<text text-anchor=\"middle\" x=\"655.2622\" y=\"-192.8\" font-family=\"Times,serif\" font-size=\"14.00\" fill=\"#000000\">value = [4349.198, 437.179, 4289.606, 4337.021, 4327.583]</text>\n",
       "</g>\n",
       "<!-- 0&#45;&gt;1 -->\n",
       "<g id=\"edge1\" class=\"edge\">\n",
       "<title>0&#45;&gt;1</title>\n",
       "<path fill=\"none\" stroke=\"#000000\" d=\"M776.6402,-285.8089C759.0742,-275.9955 739.6237,-265.1293 721.5335,-255.023\"/>\n",
       "<polygon fill=\"#000000\" stroke=\"#000000\" points=\"723.2133,-251.9524 712.7763,-250.1308 719.7993,-258.0635 723.2133,-251.9524\"/>\n",
       "<text text-anchor=\"middle\" x=\"719.5873\" y=\"-269.9851\" font-family=\"Times,serif\" font-size=\"14.00\" fill=\"#000000\">True</text>\n",
       "</g>\n",
       "<!-- 2 -->\n",
       "<g id=\"node9\" class=\"node\">\n",
       "<title>2</title>\n",
       "<polygon fill=\"none\" stroke=\"#000000\" points=\"1175.7739,-243 850.7505,-243 850.7505,-193 1175.7739,-193 1175.7739,-243\"/>\n",
       "<text text-anchor=\"middle\" x=\"1013.2622\" y=\"-227.8\" font-family=\"Times,serif\" font-size=\"14.00\" fill=\"#000000\">gini = 0.19</text>\n",
       "<text text-anchor=\"middle\" x=\"1013.2622\" y=\"-213.8\" font-family=\"Times,serif\" font-size=\"14.00\" fill=\"#000000\">samples = 5319</text>\n",
       "<text text-anchor=\"middle\" x=\"1013.2622\" y=\"-199.8\" font-family=\"Times,serif\" font-size=\"14.00\" fill=\"#000000\">value = [89.602, 4001.621, 149.194, 101.779, 111.217]</text>\n",
       "</g>\n",
       "<!-- 0&#45;&gt;2 -->\n",
       "<g id=\"edge8\" class=\"edge\">\n",
       "<title>0&#45;&gt;2</title>\n",
       "<path fill=\"none\" stroke=\"#000000\" d=\"M891.8842,-285.8089C913.5255,-273.7188 938.0271,-260.0308 959.3216,-248.1344\"/>\n",
       "<polygon fill=\"#000000\" stroke=\"#000000\" points=\"961.2107,-251.0882 968.2338,-243.1555 957.7967,-244.9772 961.2107,-251.0882\"/>\n",
       "<text text-anchor=\"middle\" x=\"961.4227\" y=\"-263.0098\" font-family=\"Times,serif\" font-size=\"14.00\" fill=\"#000000\">False</text>\n",
       "</g>\n",
       "<!-- 3 -->\n",
       "<g id=\"node3\" class=\"node\">\n",
       "<title>3</title>\n",
       "<polygon fill=\"none\" stroke=\"#000000\" points=\"630.2993,-150 290.2251,-150 290.2251,-86 630.2993,-86 630.2993,-150\"/>\n",
       "<text text-anchor=\"middle\" x=\"460.2622\" y=\"-134.8\" font-family=\"Times,serif\" font-size=\"14.00\" fill=\"#000000\">LANE_CODE_Right Turn Lane &lt;= 0.5</text>\n",
       "<text text-anchor=\"middle\" x=\"460.2622\" y=\"-120.8\" font-family=\"Times,serif\" font-size=\"14.00\" fill=\"#000000\">gini = 0.575</text>\n",
       "<text text-anchor=\"middle\" x=\"460.2622\" y=\"-106.8\" font-family=\"Times,serif\" font-size=\"14.00\" fill=\"#000000\">samples = 8117</text>\n",
       "<text text-anchor=\"middle\" x=\"460.2622\" y=\"-92.8\" font-family=\"Times,serif\" font-size=\"14.00\" fill=\"#000000\">value = [202.043, 191.215, 342.336, 3870.658, 4313.233]</text>\n",
       "</g>\n",
       "<!-- 1&#45;&gt;3 -->\n",
       "<g id=\"edge2\" class=\"edge\">\n",
       "<title>1&#45;&gt;3</title>\n",
       "<path fill=\"none\" stroke=\"#000000\" d=\"M592.7584,-185.9467C573.3409,-175.989 551.7882,-164.9364 531.8046,-154.6884\"/>\n",
       "<polygon fill=\"#000000\" stroke=\"#000000\" points=\"533.2419,-151.4922 522.7466,-150.0433 530.0477,-157.7209 533.2419,-151.4922\"/>\n",
       "</g>\n",
       "<!-- 4 -->\n",
       "<g id=\"node6\" class=\"node\">\n",
       "<title>4</title>\n",
       "<polygon fill=\"none\" stroke=\"#000000\" points=\"1053.8843,-150 648.6401,-150 648.6401,-86 1053.8843,-86 1053.8843,-150\"/>\n",
       "<text text-anchor=\"middle\" x=\"851.2622\" y=\"-134.8\" font-family=\"Times,serif\" font-size=\"14.00\" fill=\"#000000\">RD_DIV_CODE_Two&#45;way, Divided, Positive Median Barrier &lt;= 0.5</text>\n",
       "<text text-anchor=\"middle\" x=\"851.2622\" y=\"-120.8\" font-family=\"Times,serif\" font-size=\"14.00\" fill=\"#000000\">gini = 0.575</text>\n",
       "<text text-anchor=\"middle\" x=\"851.2622\" y=\"-106.8\" font-family=\"Times,serif\" font-size=\"14.00\" fill=\"#000000\">samples = 8758</text>\n",
       "<text text-anchor=\"middle\" x=\"851.2622\" y=\"-92.8\" font-family=\"Times,serif\" font-size=\"14.00\" fill=\"#000000\">value = [4147.155, 245.964, 3947.271, 466.363, 14.351]</text>\n",
       "</g>\n",
       "<!-- 1&#45;&gt;4 -->\n",
       "<g id=\"edge5\" class=\"edge\">\n",
       "<title>1&#45;&gt;4</title>\n",
       "<path fill=\"none\" stroke=\"#000000\" d=\"M718.0866,-185.9467C737.6037,-175.989 759.2669,-164.9364 779.353,-154.6884\"/>\n",
       "<polygon fill=\"#000000\" stroke=\"#000000\" points=\"781.1404,-157.7057 788.4573,-150.0433 777.9591,-151.4704 781.1404,-157.7057\"/>\n",
       "</g>\n",
       "<!-- 5 -->\n",
       "<g id=\"node4\" class=\"node\">\n",
       "<title>5</title>\n",
       "<polygon fill=\"none\" stroke=\"#000000\" points=\"304.287,-50 .2374,-50 .2374,0 304.287,0 304.287,-50\"/>\n",
       "<text text-anchor=\"middle\" x=\"152.2622\" y=\"-34.8\" font-family=\"Times,serif\" font-size=\"14.00\" fill=\"#000000\">gini = 0.103</text>\n",
       "<text text-anchor=\"middle\" x=\"152.2622\" y=\"-20.8\" font-family=\"Times,serif\" font-size=\"14.00\" fill=\"#000000\">samples = 2761</text>\n",
       "<text text-anchor=\"middle\" x=\"152.2622\" y=\"-6.8\" font-family=\"Times,serif\" font-size=\"14.00\" fill=\"#000000\">value = [0.878, 39.224, 143.411, 3870.658, 35.876]</text>\n",
       "</g>\n",
       "<!-- 3&#45;&gt;5 -->\n",
       "<g id=\"edge3\" class=\"edge\">\n",
       "<title>3&#45;&gt;5</title>\n",
       "<path fill=\"none\" stroke=\"#000000\" d=\"M354.2661,-85.9947C318.6374,-75.2367 279.1999,-63.3286 244.6976,-52.9107\"/>\n",
       "<polygon fill=\"#000000\" stroke=\"#000000\" points=\"245.6892,-49.5541 235.1044,-50.014 243.6658,-56.2553 245.6892,-49.5541\"/>\n",
       "</g>\n",
       "<!-- 6 -->\n",
       "<g id=\"node5\" class=\"node\">\n",
       "<title>6</title>\n",
       "<polygon fill=\"none\" stroke=\"#000000\" points=\"627.7993,-50 322.7251,-50 322.7251,0 627.7993,0 627.7993,-50\"/>\n",
       "<text text-anchor=\"middle\" x=\"475.2622\" y=\"-34.8\" font-family=\"Times,serif\" font-size=\"14.00\" fill=\"#000000\">gini = 0.211</text>\n",
       "<text text-anchor=\"middle\" x=\"475.2622\" y=\"-20.8\" font-family=\"Times,serif\" font-size=\"14.00\" fill=\"#000000\">samples = 5356</text>\n",
       "<text text-anchor=\"middle\" x=\"475.2622\" y=\"-6.8\" font-family=\"Times,serif\" font-size=\"14.00\" fill=\"#000000\">value = [201.165, 151.991, 198.925, 0.0, 4277.356]</text>\n",
       "</g>\n",
       "<!-- 3&#45;&gt;6 -->\n",
       "<g id=\"edge4\" class=\"edge\">\n",
       "<title>3&#45;&gt;6</title>\n",
       "<path fill=\"none\" stroke=\"#000000\" d=\"M465.4244,-85.9947C466.7739,-77.6273 468.2357,-68.5643 469.6093,-60.0478\"/>\n",
       "<polygon fill=\"#000000\" stroke=\"#000000\" points=\"473.0906,-60.4438 471.2277,-50.014 466.1799,-59.3291 473.0906,-60.4438\"/>\n",
       "</g>\n",
       "<!-- 7 -->\n",
       "<g id=\"node7\" class=\"node\">\n",
       "<title>7</title>\n",
       "<polygon fill=\"none\" stroke=\"#000000\" points=\"999.787,-50 674.7374,-50 674.7374,0 999.787,0 999.787,-50\"/>\n",
       "<text text-anchor=\"middle\" x=\"837.2622\" y=\"-34.8\" font-family=\"Times,serif\" font-size=\"14.00\" fill=\"#000000\">gini = 0.316</text>\n",
       "<text text-anchor=\"middle\" x=\"837.2622\" y=\"-20.8\" font-family=\"Times,serif\" font-size=\"14.00\" fill=\"#000000\">samples = 5464</text>\n",
       "<text text-anchor=\"middle\" x=\"837.2622\" y=\"-6.8\" font-family=\"Times,serif\" font-size=\"14.00\" fill=\"#000000\">value = [4147.155, 118.488, 329.614, 451.172, 14.351]</text>\n",
       "</g>\n",
       "<!-- 4&#45;&gt;7 -->\n",
       "<g id=\"edge6\" class=\"edge\">\n",
       "<title>4&#45;&gt;7</title>\n",
       "<path fill=\"none\" stroke=\"#000000\" d=\"M846.4442,-85.9947C845.1846,-77.6273 843.8203,-68.5643 842.5382,-60.0478\"/>\n",
       "<polygon fill=\"#000000\" stroke=\"#000000\" points=\"845.9775,-59.3816 841.0278,-50.014 839.0554,-60.4237 845.9775,-59.3816\"/>\n",
       "</g>\n",
       "<!-- 8 -->\n",
       "<g id=\"node8\" class=\"node\">\n",
       "<title>8</title>\n",
       "<polygon fill=\"none\" stroke=\"#000000\" points=\"1288.2993,-50 1018.2251,-50 1018.2251,0 1288.2993,0 1288.2993,-50\"/>\n",
       "<text text-anchor=\"middle\" x=\"1153.2622\" y=\"-34.8\" font-family=\"Times,serif\" font-size=\"14.00\" fill=\"#000000\">gini = 0.073</text>\n",
       "<text text-anchor=\"middle\" x=\"1153.2622\" y=\"-20.8\" font-family=\"Times,serif\" font-size=\"14.00\" fill=\"#000000\">samples = 3294</text>\n",
       "<text text-anchor=\"middle\" x=\"1153.2622\" y=\"-6.8\" font-family=\"Times,serif\" font-size=\"14.00\" fill=\"#000000\">value = [0.0, 127.477, 3617.657, 15.191, 0.0]</text>\n",
       "</g>\n",
       "<!-- 4&#45;&gt;8 -->\n",
       "<g id=\"edge7\" class=\"edge\">\n",
       "<title>4&#45;&gt;8</title>\n",
       "<path fill=\"none\" stroke=\"#000000\" d=\"M955.1935,-85.9947C989.9788,-75.2826 1028.4669,-63.4303 1062.1935,-53.0443\"/>\n",
       "<polygon fill=\"#000000\" stroke=\"#000000\" points=\"1063.5068,-56.3022 1072.0338,-50.014 1061.4466,-49.6122 1063.5068,-56.3022\"/>\n",
       "</g>\n",
       "</g>\n",
       "</svg>\n"
      ],
      "text/plain": [
       "<graphviz.files.Source at 0x10e565e10>"
      ]
     },
     "execution_count": 42,
     "metadata": {},
     "output_type": "execute_result"
    }
   ],
   "source": [
    "# Open .dot and visualize\n",
    "with open('decision_tree.dot', 'r') as f:\n",
    "    dot_graph = f.read()\n",
    "\n",
    "gv.Source(dot_graph)"
   ]
  },
  {
   "cell_type": "markdown",
   "metadata": {},
   "source": [
    "### Analyzing"
   ]
  },
  {
   "cell_type": "code",
   "execution_count": 54,
   "metadata": {},
   "outputs": [
    {
     "name": "stdout",
     "output_type": "stream",
     "text": [
      "[7091, 4386, 7137]\n",
      "[2.1644337893103933, 2.7637938896488827, 3.1206389239176127]\n"
     ]
    }
   ],
   "source": [
    "# Among features chosen by the decision tree above, pick two with the highest severity level\n",
    "# Because INJ_SEVER_CODE is skewed, give heavy weight by replacing\n",
    "d = {'INJ_SEVER_CODE': {\n",
    "    'Fatal Injury': 1024,\n",
    "    'Incapacitating/Disabled Injury': 64,\n",
    "    'Possible Incapacitating Injury': 8,\n",
    "    'Non-incapacitating Injury': 2,    \n",
    "    'No Injury': 1\n",
    "}}\n",
    "cdf3 = cdf.replace(d)\n",
    "\n",
    "# severity == normalized class frequency * normalized class average injury severity\n",
    "cls1 = cdf3[cdf3['AREA_DAMAGED_CODE_MAIN'] == 'Six o\\'clock']\n",
    "cls2 = cdf3[\n",
    "    (cdf3['AREA_DAMAGED_CODE_MAIN'] != 'Six o\\'clock')\n",
    "    & (cdf3['JUNCTION_CODE'] == 'Non Intersection')\n",
    "    & (cdf3['RD_DIV_CODE'] == 'Two-way, Divided, Positive Median Barrier')\n",
    "]\n",
    "cls3 = cdf3[\n",
    "    (cdf3['AREA_DAMAGED_CODE_MAIN'] != 'Six o\\'clock')\n",
    "    & (cdf3['JUNCTION_CODE'] != 'Non Intersection')\n",
    "    & (cdf3['LANE_CODE'] == 'Right Turn Lane')\n",
    "]\n",
    "\n",
    "cls_list = [cls1, cls2, cls3]\n",
    "\n",
    "freq_list = []\n",
    "avg_list = []\n",
    "d = {}\n",
    "for cls in cls_list:\n",
    "    freq = cls.count().iloc[0]\n",
    "    freq_list.append(freq)\n",
    "    avg = cls['INJ_SEVER_CODE'].mean()\n",
    "    avg_list.append(avg)\n",
    "    d[freq] = avg\n",
    "\n",
    "print(freq_list)\n",
    "print(avg_list)"
   ]
  },
  {
   "cell_type": "code",
   "execution_count": 55,
   "metadata": {},
   "outputs": [
    {
     "data": {
      "text/plain": [
       "[(2, 0.80420113585506547), (1, -0.2897370150332701)]"
      ]
     },
     "execution_count": 55,
     "metadata": {},
     "output_type": "execute_result"
    }
   ],
   "source": [
    "# Normalize then get severity\n",
    "freq_arr = np.array(freq_list)\n",
    "avg_arr = np.array(avg_list)\n",
    "\n",
    "sever_d = {}\n",
    "for i, (f, a) in enumerate(d.items()):\n",
    "    norm_f = (f - np.mean(freq_arr)) / np.std(freq_arr)\n",
    "    norm_a = (a - np.mean(avg_arr)) / np.std(avg_arr)\n",
    "    sever_d[i] = norm_f * norm_a\n",
    "\n",
    "# Get two highest features\n",
    "collections.Counter(sever_d).most_common(2)"
   ]
  },
  {
   "cell_type": "code",
   "execution_count": 60,
   "metadata": {},
   "outputs": [
    {
     "data": {
      "text/plain": [
       "Counter({1: 5772, 2: 486, 8: 813, 64: 61, 1024: 5})"
      ]
     },
     "execution_count": 60,
     "metadata": {},
     "output_type": "execute_result"
    }
   ],
   "source": [
    "collections.Counter(cls3['INJ_SEVER_CODE'])"
   ]
  },
  {
   "cell_type": "code",
   "execution_count": 61,
   "metadata": {},
   "outputs": [
    {
     "data": {
      "text/plain": [
       "Counter({1: 3690, 2: 244, 8: 409, 64: 41, 1024: 2})"
      ]
     },
     "execution_count": 61,
     "metadata": {},
     "output_type": "execute_result"
    }
   ],
   "source": [
    "collections.Counter(cls2['INJ_SEVER_CODE'])"
   ]
  },
  {
   "cell_type": "code",
   "execution_count": 62,
   "metadata": {},
   "outputs": [
    {
     "data": {
      "text/plain": [
       "Counter({'Fatal Injury': 26,\n",
       "         'Incapacitating/Disabled Injury': 239,\n",
       "         'No Injury': 24451,\n",
       "         'Non-incapacitating Injury': 1751,\n",
       "         'Possible Incapacitating Injury': 3126})"
      ]
     },
     "execution_count": 62,
     "metadata": {},
     "output_type": "execute_result"
    }
   ],
   "source": [
    "collections.Counter(df['INJ_SEVER_CODE'])"
   ]
  },
  {
   "cell_type": "code",
   "execution_count": null,
   "metadata": {},
   "outputs": [],
   "source": []
  }
 ],
 "metadata": {
  "kernelspec": {
   "display_name": "Python 3",
   "language": "python",
   "name": "python3"
  },
  "language_info": {
   "codemirror_mode": {
    "name": "ipython",
    "version": 3
   },
   "file_extension": ".py",
   "mimetype": "text/x-python",
   "name": "python",
   "nbconvert_exporter": "python",
   "pygments_lexer": "ipython3",
   "version": "3.6.1"
  }
 },
 "nbformat": 4,
 "nbformat_minor": 1
}
